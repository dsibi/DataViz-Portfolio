{
  "nbformat": 4,
  "nbformat_minor": 0,
  "metadata": {
    "celltoolbar": "Raw Cell Format",
    "hide_input": false,
    "kernelspec": {
      "display_name": "Python 3",
      "language": "python",
      "name": "python3"
    },
    "language_info": {
      "codemirror_mode": {
        "name": "ipython",
        "version": 3
      },
      "file_extension": ".py",
      "mimetype": "text/x-python",
      "name": "python",
      "nbconvert_exporter": "python",
      "pygments_lexer": "ipython3",
      "version": "3.8.5"
    },
    "toc": {
      "base_numbering": 1,
      "nav_menu": {},
      "number_sections": true,
      "sideBar": true,
      "skip_h1_title": false,
      "title_cell": "Table of Contents",
      "title_sidebar": "Contents",
      "toc_cell": false,
      "toc_position": {},
      "toc_section_display": true,
      "toc_window_display": false
    },
    "varInspector": {
      "cols": {
        "lenName": 16,
        "lenType": 16,
        "lenVar": 40
      },
      "kernels_config": {
        "python": {
          "delete_cmd_postfix": "",
          "delete_cmd_prefix": "del ",
          "library": "var_list.py",
          "varRefreshCmd": "print(var_dic_list())"
        },
        "r": {
          "delete_cmd_postfix": ") ",
          "delete_cmd_prefix": "rm(",
          "library": "var_list.r",
          "varRefreshCmd": "cat(var_dic_list()) "
        }
      },
      "types_to_exclude": [
        "module",
        "function",
        "builtin_function_or_method",
        "instance",
        "_Feature"
      ],
      "window_display": false
    },
    "colab": {
      "name": "assess_reliability_of_bank_borrowers_ru.ipynb",
      "provenance": [],
      "collapsed_sections": [],
      "include_colab_link": true
    }
  },
  "cells": [
    {
      "cell_type": "markdown",
      "metadata": {
        "id": "view-in-github",
        "colab_type": "text"
      },
      "source": [
        "<a href=\"https://colab.research.google.com/github/dsibi/DataViz-Portfolio/blob/master/assess_reliability_of_bank_borrowers/assess_reliability_of_bank_borrowers_ru.ipynb\" target=\"_parent\"><img src=\"https://colab.research.google.com/assets/colab-badge.svg\" alt=\"Open In Colab\"/></a>"
      ]
    },
    {
      "cell_type": "markdown",
      "metadata": {
        "id": "yLHkaXKU1KCH"
      },
      "source": [
        "## Исследование надёжности заёмщиков\n",
        "\n",
        "Заказчик — кредитный отдел банка. Нужно разобраться, влияет ли семейное положение и количество детей клиента на факт погашения кредита в срок. Входные данные от банка — статистика о платёжеспособности клиентов.\n",
        "\n",
        "Результаты исследования будут учтены при построении модели **кредитного скоринга** — специальной системы, которая оценивает способность потенциального заёмщика вернуть кредит банку."
      ]
    },
    {
      "cell_type": "markdown",
      "metadata": {
        "id": "NLtTPQ9j1KCJ"
      },
      "source": [
        "### Шаг 1. Откройте файл с данными и изучите общую информацию. "
      ]
    },
    {
      "cell_type": "markdown",
      "metadata": {
        "id": "u23XjifD1KCL"
      },
      "source": [
        "Импортируем библиотекиу pandas для обработки и анализа табличных данных, а также библиотеку pymystem3 для проведения лемматизации"
      ]
    },
    {
      "cell_type": "code",
      "metadata": {
        "ExecuteTime": {
          "end_time": "2020-09-19T15:59:55.483039Z",
          "start_time": "2020-09-19T15:59:55.477095Z"
        },
        "id": "3Ye0af7R1KCM"
      },
      "source": [
        "import pandas as pd\n",
        "import numpy as np\n",
        "from pymystem3 import Mystem\n",
        "m = Mystem()"
      ],
      "execution_count": 22,
      "outputs": []
    },
    {
      "cell_type": "markdown",
      "metadata": {
        "id": "IEmotn5H1KCU"
      },
      "source": [
        "Читаем и выводим на экран csv-файл"
      ]
    },
    {
      "cell_type": "code",
      "metadata": {
        "colab": {
          "base_uri": "https://localhost:8080/"
        },
        "id": "-L5vHdWLr_wY",
        "outputId": "010e8933-90fa-4380-fa56-062ef8b790fc"
      },
      "source": [
        "from google.colab import drive\n",
        "drive.mount('/content/drive')"
      ],
      "execution_count": 23,
      "outputs": [
        {
          "output_type": "stream",
          "text": [
            "Drive already mounted at /content/drive; to attempt to forcibly remount, call drive.mount(\"/content/drive\", force_remount=True).\n"
          ],
          "name": "stdout"
        }
      ]
    },
    {
      "cell_type": "code",
      "metadata": {
        "id": "TPqHk0yzruIB"
      },
      "source": [
        "df=pd.read_csv('/content/drive/MyDrive/Edu/Data Analysis/3_Предобработка данных/!Project/data/data.csv')"
      ],
      "execution_count": 24,
      "outputs": []
    },
    {
      "cell_type": "code",
      "metadata": {
        "ExecuteTime": {
          "end_time": "2020-09-19T15:59:55.699012Z",
          "start_time": "2020-09-19T15:59:55.498510Z"
        },
        "id": "S70w-cZM1KCV",
        "colab": {
          "base_uri": "https://localhost:8080/",
          "height": 603
        },
        "outputId": "68009a51-9c20-4442-fccd-d396b9c1d0ee"
      },
      "source": [
        "df.info()\n",
        "df.describe()"
      ],
      "execution_count": 25,
      "outputs": [
        {
          "output_type": "stream",
          "text": [
            "<class 'pandas.core.frame.DataFrame'>\n",
            "RangeIndex: 21525 entries, 0 to 21524\n",
            "Data columns (total 12 columns):\n",
            " #   Column            Non-Null Count  Dtype  \n",
            "---  ------            --------------  -----  \n",
            " 0   children          21525 non-null  int64  \n",
            " 1   days_employed     19351 non-null  float64\n",
            " 2   dob_years         21525 non-null  int64  \n",
            " 3   education         21525 non-null  object \n",
            " 4   education_id      21525 non-null  int64  \n",
            " 5   family_status     21525 non-null  object \n",
            " 6   family_status_id  21525 non-null  int64  \n",
            " 7   gender            21525 non-null  object \n",
            " 8   income_type       21525 non-null  object \n",
            " 9   debt              21525 non-null  int64  \n",
            " 10  total_income      19351 non-null  float64\n",
            " 11  purpose           21525 non-null  object \n",
            "dtypes: float64(2), int64(5), object(5)\n",
            "memory usage: 2.0+ MB\n"
          ],
          "name": "stdout"
        },
        {
          "output_type": "execute_result",
          "data": {
            "text/html": [
              "<div>\n",
              "<style scoped>\n",
              "    .dataframe tbody tr th:only-of-type {\n",
              "        vertical-align: middle;\n",
              "    }\n",
              "\n",
              "    .dataframe tbody tr th {\n",
              "        vertical-align: top;\n",
              "    }\n",
              "\n",
              "    .dataframe thead th {\n",
              "        text-align: right;\n",
              "    }\n",
              "</style>\n",
              "<table border=\"1\" class=\"dataframe\">\n",
              "  <thead>\n",
              "    <tr style=\"text-align: right;\">\n",
              "      <th></th>\n",
              "      <th>children</th>\n",
              "      <th>days_employed</th>\n",
              "      <th>dob_years</th>\n",
              "      <th>education_id</th>\n",
              "      <th>family_status_id</th>\n",
              "      <th>debt</th>\n",
              "      <th>total_income</th>\n",
              "    </tr>\n",
              "  </thead>\n",
              "  <tbody>\n",
              "    <tr>\n",
              "      <th>count</th>\n",
              "      <td>21525.000000</td>\n",
              "      <td>19351.000000</td>\n",
              "      <td>21525.000000</td>\n",
              "      <td>21525.000000</td>\n",
              "      <td>21525.000000</td>\n",
              "      <td>21525.000000</td>\n",
              "      <td>1.935100e+04</td>\n",
              "    </tr>\n",
              "    <tr>\n",
              "      <th>mean</th>\n",
              "      <td>0.538908</td>\n",
              "      <td>63046.497661</td>\n",
              "      <td>43.293380</td>\n",
              "      <td>0.817236</td>\n",
              "      <td>0.972544</td>\n",
              "      <td>0.080883</td>\n",
              "      <td>1.674223e+05</td>\n",
              "    </tr>\n",
              "    <tr>\n",
              "      <th>std</th>\n",
              "      <td>1.381587</td>\n",
              "      <td>140827.311974</td>\n",
              "      <td>12.574584</td>\n",
              "      <td>0.548138</td>\n",
              "      <td>1.420324</td>\n",
              "      <td>0.272661</td>\n",
              "      <td>1.029716e+05</td>\n",
              "    </tr>\n",
              "    <tr>\n",
              "      <th>min</th>\n",
              "      <td>-1.000000</td>\n",
              "      <td>-18388.949901</td>\n",
              "      <td>0.000000</td>\n",
              "      <td>0.000000</td>\n",
              "      <td>0.000000</td>\n",
              "      <td>0.000000</td>\n",
              "      <td>2.066726e+04</td>\n",
              "    </tr>\n",
              "    <tr>\n",
              "      <th>25%</th>\n",
              "      <td>0.000000</td>\n",
              "      <td>-2747.423625</td>\n",
              "      <td>33.000000</td>\n",
              "      <td>1.000000</td>\n",
              "      <td>0.000000</td>\n",
              "      <td>0.000000</td>\n",
              "      <td>1.030532e+05</td>\n",
              "    </tr>\n",
              "    <tr>\n",
              "      <th>50%</th>\n",
              "      <td>0.000000</td>\n",
              "      <td>-1203.369529</td>\n",
              "      <td>42.000000</td>\n",
              "      <td>1.000000</td>\n",
              "      <td>0.000000</td>\n",
              "      <td>0.000000</td>\n",
              "      <td>1.450179e+05</td>\n",
              "    </tr>\n",
              "    <tr>\n",
              "      <th>75%</th>\n",
              "      <td>1.000000</td>\n",
              "      <td>-291.095954</td>\n",
              "      <td>53.000000</td>\n",
              "      <td>1.000000</td>\n",
              "      <td>1.000000</td>\n",
              "      <td>0.000000</td>\n",
              "      <td>2.034351e+05</td>\n",
              "    </tr>\n",
              "    <tr>\n",
              "      <th>max</th>\n",
              "      <td>20.000000</td>\n",
              "      <td>401755.400475</td>\n",
              "      <td>75.000000</td>\n",
              "      <td>4.000000</td>\n",
              "      <td>4.000000</td>\n",
              "      <td>1.000000</td>\n",
              "      <td>2.265604e+06</td>\n",
              "    </tr>\n",
              "  </tbody>\n",
              "</table>\n",
              "</div>"
            ],
            "text/plain": [
              "           children  days_employed  ...          debt  total_income\n",
              "count  21525.000000   19351.000000  ...  21525.000000  1.935100e+04\n",
              "mean       0.538908   63046.497661  ...      0.080883  1.674223e+05\n",
              "std        1.381587  140827.311974  ...      0.272661  1.029716e+05\n",
              "min       -1.000000  -18388.949901  ...      0.000000  2.066726e+04\n",
              "25%        0.000000   -2747.423625  ...      0.000000  1.030532e+05\n",
              "50%        0.000000   -1203.369529  ...      0.000000  1.450179e+05\n",
              "75%        1.000000    -291.095954  ...      0.000000  2.034351e+05\n",
              "max       20.000000  401755.400475  ...      1.000000  2.265604e+06\n",
              "\n",
              "[8 rows x 7 columns]"
            ]
          },
          "metadata": {
            "tags": []
          },
          "execution_count": 25
        }
      ]
    },
    {
      "cell_type": "markdown",
      "metadata": {
        "id": "crC4qONb1KCd"
      },
      "source": [
        "### Вывод"
      ]
    },
    {
      "cell_type": "markdown",
      "metadata": {
        "id": "E6em-aLX1KCe"
      },
      "source": [
        "Файл открыли и изучли - он содержит таблицу, состоящую 21525 строк и 12 колонок:\n",
        "- не все данные присутствуют в колонках:\n",
        "    - `days_employed`\n",
        "    - `total_income`\n",
        "- колонки с некорректным типом данных:\n",
        "    - `days_employed`\n",
        "    - `total_income`\n",
        "- явные ошибки в данных в колонках `children`, `days_employed`;\n",
        "- ряд названий колонок нужно изменить."
      ]
    },
    {
      "cell_type": "markdown",
      "metadata": {
        "id": "XGa8d1pQ1KCf"
      },
      "source": [
        "### Шаг 2. Предобработка данных"
      ]
    },
    {
      "cell_type": "markdown",
      "metadata": {
        "id": "j1xBGtWB1KCg"
      },
      "source": [
        "### Изменение названий столбцов и обработка пропусков"
      ]
    },
    {
      "cell_type": "markdown",
      "metadata": {
        "id": "tghfLpjJ1KCh"
      },
      "source": [
        "#### Изменение названий столбцов"
      ]
    },
    {
      "cell_type": "markdown",
      "metadata": {
        "id": "dbwvrxaE1KCi"
      },
      "source": [
        "Выводим текущие названия столбцов"
      ]
    },
    {
      "cell_type": "code",
      "metadata": {
        "ExecuteTime": {
          "end_time": "2020-09-19T15:59:55.714934Z",
          "start_time": "2020-09-19T15:59:55.703960Z"
        },
        "id": "SjC38tLn1KCj",
        "colab": {
          "base_uri": "https://localhost:8080/"
        },
        "outputId": "e53e3aa2-5882-4ab6-9bde-627fed7a87c4"
      },
      "source": [
        "df.columns"
      ],
      "execution_count": 26,
      "outputs": [
        {
          "output_type": "execute_result",
          "data": {
            "text/plain": [
              "Index(['children', 'days_employed', 'dob_years', 'education', 'education_id',\n",
              "       'family_status', 'family_status_id', 'gender', 'income_type', 'debt',\n",
              "       'total_income', 'purpose'],\n",
              "      dtype='object')"
            ]
          },
          "metadata": {
            "tags": []
          },
          "execution_count": 26
        }
      ]
    },
    {
      "cell_type": "markdown",
      "metadata": {
        "id": "NOktd5W51KCp"
      },
      "source": [
        "Корректируем названия столбцов"
      ]
    },
    {
      "cell_type": "code",
      "metadata": {
        "ExecuteTime": {
          "end_time": "2020-09-19T15:59:55.736874Z",
          "start_time": "2020-09-19T15:59:55.721912Z"
        },
        "id": "L1C37FcB1KCq",
        "colab": {
          "base_uri": "https://localhost:8080/"
        },
        "outputId": "bb124110-d039-4e43-b3d6-6e267597cf6c"
      },
      "source": [
        "df.rename(columns={'children': 'children_number', 'dob_years': 'age_years', 'education': 'education_level', 'education_id': 'education_level_id', 'purpose': 'loan_purpose'}, inplace=True)\n",
        "df.columns"
      ],
      "execution_count": 27,
      "outputs": [
        {
          "output_type": "execute_result",
          "data": {
            "text/plain": [
              "Index(['children_number', 'days_employed', 'age_years', 'education_level',\n",
              "       'education_level_id', 'family_status', 'family_status_id', 'gender',\n",
              "       'income_type', 'debt', 'total_income', 'loan_purpose'],\n",
              "      dtype='object')"
            ]
          },
          "metadata": {
            "tags": []
          },
          "execution_count": 27
        }
      ]
    },
    {
      "cell_type": "markdown",
      "metadata": {
        "id": "_s4FUT4M1KCw"
      },
      "source": [
        "#### Обработка пропусков"
      ]
    },
    {
      "cell_type": "markdown",
      "metadata": {
        "id": "Z_8TqBZw1KCx"
      },
      "source": [
        "##### Считаем доли пропусков"
      ]
    },
    {
      "cell_type": "code",
      "metadata": {
        "ExecuteTime": {
          "end_time": "2020-09-19T15:59:55.765795Z",
          "start_time": "2020-09-19T15:59:55.742893Z"
        },
        "id": "d0Onjngk1KCy",
        "colab": {
          "base_uri": "https://localhost:8080/"
        },
        "outputId": "afea99d8-9788-4c6c-a924-e611377e29fd"
      },
      "source": [
        "df.isna().mean()"
      ],
      "execution_count": 28,
      "outputs": [
        {
          "output_type": "execute_result",
          "data": {
            "text/plain": [
              "children_number       0.000000\n",
              "days_employed         0.100999\n",
              "age_years             0.000000\n",
              "education_level       0.000000\n",
              "education_level_id    0.000000\n",
              "family_status         0.000000\n",
              "family_status_id      0.000000\n",
              "gender                0.000000\n",
              "income_type           0.000000\n",
              "debt                  0.000000\n",
              "total_income          0.100999\n",
              "loan_purpose          0.000000\n",
              "dtype: float64"
            ]
          },
          "metadata": {
            "tags": []
          },
          "execution_count": 28
        }
      ]
    },
    {
      "cell_type": "markdown",
      "metadata": {
        "id": "eDiCosiD1KC4"
      },
      "source": [
        "Доля пропусков по следующим колонкам `days_employed` и `total_income` одинакова и равна 10 %.\n",
        "Возможные причины появления пропусков - технические проблемы при выгрузке из разных баз данных."
      ]
    },
    {
      "cell_type": "markdown",
      "metadata": {
        "id": "mQd-rPKs1KC6"
      },
      "source": [
        "##### Заполненияем пропуски"
      ]
    },
    {
      "cell_type": "markdown",
      "metadata": {
        "id": "4djoObAM1KC7"
      },
      "source": [
        "- `days_employed`: данные по этому столбцу не фигурируют в запросе Заказчика, поэтому пропуски заменяем нулями"
      ]
    },
    {
      "cell_type": "code",
      "metadata": {
        "ExecuteTime": {
          "end_time": "2020-09-19T15:59:55.780755Z",
          "start_time": "2020-09-19T15:59:55.769789Z"
        },
        "id": "giDS3kro1KC8"
      },
      "source": [
        "df['days_employed']=df['days_employed'].fillna(0)"
      ],
      "execution_count": 29,
      "outputs": []
    },
    {
      "cell_type": "markdown",
      "metadata": {
        "id": "fEB89Cse1KDB"
      },
      "source": [
        "- `total_income` заполним медианным значением в соответствии с типом занятости, для этого производим:"
      ]
    },
    {
      "cell_type": "markdown",
      "metadata": {
        "id": "_9akMSvx1KDC"
      },
      "source": [
        "    - расчет медианного значения по `income_type` и сохранение его в `med_table`"
      ]
    },
    {
      "cell_type": "code",
      "metadata": {
        "ExecuteTime": {
          "end_time": "2020-09-19T15:59:55.817694Z",
          "start_time": "2020-09-19T15:59:55.785745Z"
        },
        "id": "RHKdDpn61KDD"
      },
      "source": [
        "med_table=df.groupby('income_type')['total_income'].median()"
      ],
      "execution_count": 30,
      "outputs": []
    },
    {
      "cell_type": "markdown",
      "metadata": {
        "id": "ZV7n_MpL1KDI"
      },
      "source": [
        "    - подставновку рассчитанного медианного значения в пропущенные ячейки"
      ]
    },
    {
      "cell_type": "code",
      "metadata": {
        "ExecuteTime": {
          "end_time": "2020-09-19T15:59:55.879490Z",
          "start_time": "2020-09-19T15:59:55.821649Z"
        },
        "id": "8lrZoBtA1KDJ"
      },
      "source": [
        "for income_type in med_table.index:\n",
        "    df.loc[(df['total_income'].isna()) & (df['income_type'] == income_type), 'total_income'] = med_table.loc[income_type]"
      ],
      "execution_count": 31,
      "outputs": []
    },
    {
      "cell_type": "markdown",
      "metadata": {
        "id": "eqEcrzip1KDP"
      },
      "source": [
        "    - проверяем наличие пропусков"
      ]
    },
    {
      "cell_type": "code",
      "metadata": {
        "ExecuteTime": {
          "end_time": "2020-09-19T15:59:55.920408Z",
          "start_time": "2020-09-19T15:59:55.888469Z"
        },
        "id": "byL6m3KU1KDQ",
        "colab": {
          "base_uri": "https://localhost:8080/"
        },
        "outputId": "c7ba45d3-487e-46c5-e404-b939355b5cdd"
      },
      "source": [
        "df.info()"
      ],
      "execution_count": 32,
      "outputs": [
        {
          "output_type": "stream",
          "text": [
            "<class 'pandas.core.frame.DataFrame'>\n",
            "RangeIndex: 21525 entries, 0 to 21524\n",
            "Data columns (total 12 columns):\n",
            " #   Column              Non-Null Count  Dtype  \n",
            "---  ------              --------------  -----  \n",
            " 0   children_number     21525 non-null  int64  \n",
            " 1   days_employed       21525 non-null  float64\n",
            " 2   age_years           21525 non-null  int64  \n",
            " 3   education_level     21525 non-null  object \n",
            " 4   education_level_id  21525 non-null  int64  \n",
            " 5   family_status       21525 non-null  object \n",
            " 6   family_status_id    21525 non-null  int64  \n",
            " 7   gender              21525 non-null  object \n",
            " 8   income_type         21525 non-null  object \n",
            " 9   debt                21525 non-null  int64  \n",
            " 10  total_income        21525 non-null  float64\n",
            " 11  loan_purpose        21525 non-null  object \n",
            "dtypes: float64(2), int64(5), object(5)\n",
            "memory usage: 2.0+ MB\n"
          ],
          "name": "stdout"
        }
      ]
    },
    {
      "cell_type": "markdown",
      "metadata": {
        "id": "3RUO_Doq1KDV"
      },
      "source": [
        "### Вывод"
      ]
    },
    {
      "cell_type": "markdown",
      "metadata": {
        "id": "uubcI5Iv1KDX"
      },
      "source": [
        "Скорректировали наименования полей таблицы и заполнили все пропуски в ее ячейках."
      ]
    },
    {
      "cell_type": "markdown",
      "metadata": {
        "id": "YS9g_xnI1KDZ"
      },
      "source": [
        "### Замена типа данных"
      ]
    },
    {
      "cell_type": "markdown",
      "metadata": {
        "id": "A-0OaXCx1KDb"
      },
      "source": [
        "Заменяем вещественный тип данных на целочисленный в столбцах `days_employed` и `total_income` и производим проверку изменений"
      ]
    },
    {
      "cell_type": "code",
      "metadata": {
        "ExecuteTime": {
          "end_time": "2020-09-19T15:59:55.941330Z",
          "start_time": "2020-09-19T15:59:55.924371Z"
        },
        "id": "0agXX4Ck1KDc",
        "colab": {
          "base_uri": "https://localhost:8080/"
        },
        "outputId": "c9a0f335-b75a-4d71-820e-91f592f0a734"
      },
      "source": [
        "for col in ['days_employed', 'total_income']:\n",
        "    df[col]=df[col].astype('int')\n",
        "df.dtypes"
      ],
      "execution_count": 33,
      "outputs": [
        {
          "output_type": "execute_result",
          "data": {
            "text/plain": [
              "children_number        int64\n",
              "days_employed          int64\n",
              "age_years              int64\n",
              "education_level       object\n",
              "education_level_id     int64\n",
              "family_status         object\n",
              "family_status_id       int64\n",
              "gender                object\n",
              "income_type           object\n",
              "debt                   int64\n",
              "total_income           int64\n",
              "loan_purpose          object\n",
              "dtype: object"
            ]
          },
          "metadata": {
            "tags": []
          },
          "execution_count": 33
        }
      ]
    },
    {
      "cell_type": "markdown",
      "metadata": {
        "id": "I7jlnjS21KDh"
      },
      "source": [
        "### Вывод"
      ]
    },
    {
      "cell_type": "markdown",
      "metadata": {
        "id": "8ZOfmKoA1KDi"
      },
      "source": [
        "Тип данных изменен. Метод для их изменения был выбран в соответствии с начальным типом данных - float64."
      ]
    },
    {
      "cell_type": "markdown",
      "metadata": {
        "id": "1Vf4o8ae1KDj"
      },
      "source": [
        "### Обработка дубликатов"
      ]
    },
    {
      "cell_type": "markdown",
      "metadata": {
        "id": "MaoZP8F71KDk"
      },
      "source": [
        "Для более эффективного поиска дубликатов приведем данные в таблице к нижнему регистру с применением конструкции try-except, чтобы исключить возможные ошибки отсутствия атрибута str.lower в колнках таблицы - AttributeError"
      ]
    },
    {
      "cell_type": "code",
      "metadata": {
        "ExecuteTime": {
          "end_time": "2020-09-19T15:59:56.062051Z",
          "start_time": "2020-09-19T15:59:55.946314Z"
        },
        "id": "OJG32-e11KDl"
      },
      "source": [
        "for col in df.columns:\n",
        "    try:\n",
        "        df[col] = df[col].str.lower()\n",
        "    except AttributeError:\n",
        "        pass"
      ],
      "execution_count": 34,
      "outputs": []
    },
    {
      "cell_type": "markdown",
      "metadata": {
        "id": "RuwzZaU91KDp"
      },
      "source": [
        "Подсчитаем количество дубликатов в таблице"
      ]
    },
    {
      "cell_type": "code",
      "metadata": {
        "ExecuteTime": {
          "end_time": "2020-09-19T15:59:56.132860Z",
          "start_time": "2020-09-19T15:59:56.066030Z"
        },
        "id": "f-v5U2Jw1KDq",
        "colab": {
          "base_uri": "https://localhost:8080/"
        },
        "outputId": "852864ed-bd12-4e33-9f0b-968873668c1e"
      },
      "source": [
        "print('Дубликатов в таблице: ', df.duplicated().sum())"
      ],
      "execution_count": 35,
      "outputs": [
        {
          "output_type": "stream",
          "text": [
            "Дубликатов в таблице:  71\n"
          ],
          "name": "stdout"
        }
      ]
    },
    {
      "cell_type": "markdown",
      "metadata": {
        "id": "GOGjsfAy1KDw"
      },
      "source": [
        "Удаляем дубликаты с помощью метода `drop_duplicates`, оставляя первую строку из перечня дублей и производим проверку"
      ]
    },
    {
      "cell_type": "code",
      "metadata": {
        "ExecuteTime": {
          "end_time": "2020-09-19T15:59:56.222610Z",
          "start_time": "2020-09-19T15:59:56.136811Z"
        },
        "id": "6aU5g2OI1KDx",
        "colab": {
          "base_uri": "https://localhost:8080/"
        },
        "outputId": "6f76aa1a-5b52-4b5b-f384-70f66f74a7d3"
      },
      "source": [
        "df=df.drop_duplicates()\n",
        "print('Дубликатов в таблице: ', df.duplicated().sum())"
      ],
      "execution_count": 36,
      "outputs": [
        {
          "output_type": "stream",
          "text": [
            "Дубликатов в таблице:  0\n"
          ],
          "name": "stdout"
        }
      ]
    },
    {
      "cell_type": "markdown",
      "metadata": {
        "id": "H3Bfr3KT1KD1"
      },
      "source": [
        "### Вывод"
      ]
    },
    {
      "cell_type": "markdown",
      "metadata": {
        "id": "hWnT_ELd1KD2"
      },
      "source": [
        "Из таблицы удален 71 дубликат.\n",
        "Возможные причины появления дубликатов - технические проблемы при выгрузке из разных баз данных."
      ]
    },
    {
      "cell_type": "markdown",
      "metadata": {
        "id": "oDRrejJ-1KD3"
      },
      "source": [
        "### Лемматизация"
      ]
    },
    {
      "cell_type": "markdown",
      "metadata": {
        "id": "vk4k8_OB1KD4"
      },
      "source": [
        "Создаем функцию для лемматизация текста"
      ]
    },
    {
      "cell_type": "code",
      "metadata": {
        "ExecuteTime": {
          "end_time": "2020-09-19T15:59:56.232550Z",
          "start_time": "2020-09-19T15:59:56.225566Z"
        },
        "id": "i2soO0u61KD5"
      },
      "source": [
        "def lemmatization (loan_purpose):\n",
        "    lemmas = ' '.join(m.lemmatize(loan_purpose))\n",
        "    if 'автомобиль' in lemmas:\n",
        "        return 'покупка автомобиля'\n",
        "    elif ('недвижимость' in lemmas) or ('жилье' in lemmas):\n",
        "        return 'покупка недвижимости'\n",
        "    elif 'свадьба' in lemmas:\n",
        "        return 'свадьба'\n",
        "    elif 'образование' in lemmas:\n",
        "        return 'образование'\n",
        "    else:\n",
        "        return 'другая категория'"
      ],
      "execution_count": 37,
      "outputs": []
    },
    {
      "cell_type": "markdown",
      "metadata": {
        "id": "qPAjHoD41KD9"
      },
      "source": [
        "Применяем созданную функцию к колонке `loan_purpose` и добавляем колонку с леммами - `loan_purpose_dict`"
      ]
    },
    {
      "cell_type": "code",
      "metadata": {
        "ExecuteTime": {
          "start_time": "2020-09-19T15:59:55.583Z"
        },
        "id": "hmR9qADz1KD-"
      },
      "source": [
        "df['loan_purpose_dict']=df['loan_purpose'].apply(lemmatization)"
      ],
      "execution_count": null,
      "outputs": []
    },
    {
      "cell_type": "markdown",
      "metadata": {
        "id": "Ob2QZoSu1KEC"
      },
      "source": [
        "Выводим перечень целей получения кредита, отсортированный по убыванию"
      ]
    },
    {
      "cell_type": "code",
      "metadata": {
        "ExecuteTime": {
          "start_time": "2020-09-19T15:59:55.588Z"
        },
        "id": "sYaP1noz1KED"
      },
      "source": [
        "loan_purposes=df.groupby('loan_purpose_dict')['loan_purpose_dict'].count()\n",
        "print(loan_purposes.sort_values(ascending = False))"
      ],
      "execution_count": null,
      "outputs": []
    },
    {
      "cell_type": "markdown",
      "metadata": {
        "id": "e1SGM1CE1KEI"
      },
      "source": [
        "### Вывод"
      ]
    },
    {
      "cell_type": "markdown",
      "metadata": {
        "id": "GHRNQrU21KEL"
      },
      "source": [
        "Метод лемматизации определил, что около 50 % клиентов берут кредит на приобретение недвижимости."
      ]
    },
    {
      "cell_type": "markdown",
      "metadata": {
        "id": "T0XwIHL21KEL"
      },
      "source": [
        "### Категоризация данных"
      ]
    },
    {
      "cell_type": "markdown",
      "metadata": {
        "id": "U3EtTXYh1KEM"
      },
      "source": [
        "При работе с набором данных были созданы и использованы следующие «словари»:\n",
        "- `columns` - для переименования названий колонок;\n",
        "- `med_table` - для подставновки рассчитанного медианного значения в пропущенные ячейки колонки `total_income`;\n",
        "- `{-1 : 1, 20 : 2}` - для корректировки значений в колонке `children_number`."
      ]
    },
    {
      "cell_type": "code",
      "metadata": {
        "ExecuteTime": {
          "start_time": "2020-09-19T15:59:55.596Z"
        },
        "id": "Ot3FwqLk1KEN"
      },
      "source": [
        "df['children_number'] = df['children_number'].replace({-1 : 1, 20 : 2})\n",
        "df.children_number.value_counts()"
      ],
      "execution_count": null,
      "outputs": []
    },
    {
      "cell_type": "markdown",
      "metadata": {
        "id": "Ywg-v5C51KES"
      },
      "source": [
        "### Шаг 3. Ответьте на вопросы"
      ]
    },
    {
      "cell_type": "markdown",
      "metadata": {
        "id": "gJ6LWItq1KET"
      },
      "source": [
        "- Есть ли зависимость между наличием детей и возвратом кредита в срок?"
      ]
    },
    {
      "cell_type": "code",
      "metadata": {
        "ExecuteTime": {
          "start_time": "2020-09-19T15:59:55.602Z"
        },
        "id": "yx7GGBwv1KET"
      },
      "source": [
        "children_debt=df.pivot_table(index='children_number',values='debt',aggfunc=['count','sum'])\n",
        "children_debt['%']=round((children_debt[('sum', 'debt')]/children_debt[('count', 'debt')])*100,2)\n",
        "children_debt.columns = ['Общее количество заемщиков','Количество просрочников','%']\n",
        "children_debt"
      ],
      "execution_count": null,
      "outputs": []
    },
    {
      "cell_type": "markdown",
      "metadata": {
        "id": "LEmcBu6Z1KEY"
      },
      "source": [
        "### Вывод"
      ]
    },
    {
      "cell_type": "markdown",
      "metadata": {
        "id": "WCaHhZbC1KEZ"
      },
      "source": [
        "Несмотря на максимальное количество клиентов с просроченными кредитами у которых нет детей, доля их в сравнении с иными категориями клиентов меньшая и составляет 7,54 %, в то время как доли просроченных кредитов у клиентов имеющих от 1 до 4 детей - от 8,18 % до 9,76 %. В силу малого количества попавших в выборку клиентов с 5-ю детьми, данные по ним можно нивелировать."
      ]
    },
    {
      "cell_type": "markdown",
      "metadata": {
        "id": "D0_3HVhR1KEa"
      },
      "source": [
        "- Есть ли зависимость между семейным положением и возвратом кредита в срок?"
      ]
    },
    {
      "cell_type": "code",
      "metadata": {
        "ExecuteTime": {
          "start_time": "2020-09-19T15:59:55.609Z"
        },
        "scrolled": true,
        "id": "P9nxprJ11KEb"
      },
      "source": [
        "family_status_debt=df.pivot_table(index='family_status', values='debt',aggfunc=['count','sum'])\n",
        "family_status_debt['%']=round((family_status_debt[('sum', 'debt')]/family_status_debt[('count', 'debt')])*100,2)\n",
        "family_status_debt.columns = ['Общее количество заемщиков','Количество просрочников','%']\n",
        "family_status_debt.sort_values(by = '%', ascending = False)"
      ],
      "execution_count": null,
      "outputs": []
    },
    {
      "cell_type": "markdown",
      "metadata": {
        "id": "BMKzXdlJ1KEf"
      },
      "source": [
        "### Вывод"
      ]
    },
    {
      "cell_type": "markdown",
      "metadata": {
        "id": "RAP1pYqL1KEg"
      },
      "source": [
        "В большей степени просрочку допускают заемщики, не обремененные семейными узами - 9,75 % от общего количества всех не женатых / не замужних, но также недалеко отстают от них лица, живущие в гражданском браке - 9,35 % от общего числа состоящих в гражданском браке."
      ]
    },
    {
      "cell_type": "markdown",
      "metadata": {
        "id": "yVYSlo5d1KEh"
      },
      "source": [
        "- Есть ли зависимость между уровнем дохода и возвратом кредита в срок?"
      ]
    },
    {
      "cell_type": "code",
      "metadata": {
        "ExecuteTime": {
          "start_time": "2020-09-19T15:59:55.616Z"
        },
        "id": "kMbTR7Aa1KEi"
      },
      "source": [
        "total_income_debt=pd.DataFrame(df, columns=['total_income', 'debt'])\n",
        "total_income_debt['income_groups'] = pd.cut(total_income_debt['total_income'],[0,50000,100000,150000,200000,np.inf],labels=[\"до 50 тыс. руб.\", \"50-100 тыс. руб.\", \"100-150 тыс. руб.\",\"150-200 тыс. руб.\",\"свыше 200 тыс. руб.\"])\n",
        "total_income_debt=total_income_debt.groupby('income_groups')['debt'].agg(['count','sum'])\n",
        "total_income_debt['%']=round((total_income_debt[('sum')]/total_income_debt[('count')])*100,2)\n",
        "total_income_debt.columns = ['Общее количество заемщиков','Количество просрочников','%']\n",
        "total_income_debt"
      ],
      "execution_count": null,
      "outputs": []
    },
    {
      "cell_type": "markdown",
      "metadata": {
        "id": "oASvC_CU1KEm"
      },
      "source": [
        "### Вывод"
      ]
    },
    {
      "cell_type": "markdown",
      "metadata": {
        "id": "KKcz6Gr91KEn"
      },
      "source": [
        "Прямая зависимость между уровнем дохода и наличием просроченной задолженности не наблюдается и незначительно колеблется в диапазоне от 6,18 % до 8,7 %."
      ]
    },
    {
      "cell_type": "markdown",
      "metadata": {
        "id": "VShsqVYl1KEo"
      },
      "source": [
        "- Как разные цели кредита влияют на его возврат в срок?"
      ]
    },
    {
      "cell_type": "code",
      "metadata": {
        "ExecuteTime": {
          "start_time": "2020-09-19T15:59:55.622Z"
        },
        "id": "RVmldUi81KEp"
      },
      "source": [
        "loan_purpose_debt=pd.DataFrame(df, columns=['loan_purpose_dict', 'debt'])\n",
        "loan_purpose_debt_gr=loan_purpose_debt.groupby('loan_purpose_dict')['debt'].agg(['count','sum'])\n",
        "loan_purpose_debt_gr['%']=round((loan_purpose_debt_gr[('sum')]/loan_purpose_debt_gr[('count')])*100,2)\n",
        "loan_purpose_debt_gr.columns = ['Общее количество заемщиков','Количество просрочников','%']\n",
        "loan_purpose_debt_gr.sort_values(by='%',ascending = False)"
      ],
      "execution_count": null,
      "outputs": []
    },
    {
      "cell_type": "markdown",
      "metadata": {
        "id": "hm8MW_-61KEv"
      },
      "source": [
        "### Вывод"
      ]
    },
    {
      "cell_type": "markdown",
      "metadata": {
        "id": "XGcqoxkx1KEw"
      },
      "source": [
        "Максимальный процент просрочки по выданным кредитам наблюдается по автокредитам и составляет 9,36 %, минимальный же по ипотеке – 7,23 %."
      ]
    },
    {
      "cell_type": "markdown",
      "metadata": {
        "id": "b11K7rpR1KEx"
      },
      "source": [
        "### Шаг 4. Общий вывод"
      ]
    },
    {
      "cell_type": "code",
      "metadata": {
        "ExecuteTime": {
          "start_time": "2020-09-19T15:59:55.629Z"
        },
        "id": "DBVwvk2Y1KEy"
      },
      "source": [
        "print(\"Средняя просрочка по кредитному портфелю: %.2f\" % ((df['debt'].sum()/len(df)*100)), '%')"
      ],
      "execution_count": null,
      "outputs": []
    },
    {
      "cell_type": "markdown",
      "metadata": {
        "id": "-TRTX0H21KE3"
      },
      "source": [
        "В целях снижения уровня просроченных кредитов рекомендуем Заказчику пересмотреть скоринговую политику в отношении следующих групп клиентов:\n",
        "- клиентов с детьми;\n",
        "- не женатых/холостых, а также клиентов, проживающих в гражданском браке;\n",
        "- клиентов, подающих заявку на автокредитование."
      ]
    },
    {
      "cell_type": "markdown",
      "metadata": {
        "id": "VSRec_y21KE3"
      },
      "source": [
        "### Чек-лист готовности проекта\n",
        "\n",
        "Поставьте 'x' в выполненных пунктах. Далее нажмите Shift+Enter."
      ]
    },
    {
      "cell_type": "markdown",
      "metadata": {
        "id": "f5HZRkLD1KE5"
      },
      "source": [
        "- [x]  открыт файл;\n",
        "- [x]  файл изучен;\n",
        "- [x]  определены пропущенные значения;\n",
        "- [x]  заполнены пропущенные значения;\n",
        "- [x]  есть пояснение, какие пропущенные значения обнаружены;\n",
        "- [x]  описаны возможные причины появления пропусков в данных;\n",
        "- [x]  объяснено, по какому принципу заполнены пропуски;\n",
        "- [x]  заменен вещественный тип данных на целочисленный;\n",
        "- [x]  есть пояснение, какой метод используется для изменения типа данных и почему;\n",
        "- [x]  удалены дубликаты;\n",
        "- [x]  есть пояснение, какой метод используется для поиска и удаления дубликатов;\n",
        "- [x]  описаны возможные причины появления дубликатов в данных;\n",
        "- [x]  выделены леммы в значениях столбца с целями получения кредита;\n",
        "- [x]  описан процесс лемматизации;\n",
        "- [x]  данные категоризированы;\n",
        "- [x]  есть объяснение принципа категоризации данных;\n",
        "- [x]  есть ответ на вопрос: \"Есть ли зависимость между наличием детей и возвратом кредита в срок?\";\n",
        "- [x]  есть ответ на вопрос: \"Есть ли зависимость между семейным положением и возвратом кредита в срок?\";\n",
        "- [x]  есть ответ на вопрос: \"Есть ли зависимость между уровнем дохода и возвратом кредита в срок?\";\n",
        "- [x]  есть ответ на вопрос: \"Как разные цели кредита влияют на его возврат в срок?\";\n",
        "- [x]  в каждом этапе есть выводы;\n",
        "- [x]  есть общий вывод."
      ]
    }
  ]
}